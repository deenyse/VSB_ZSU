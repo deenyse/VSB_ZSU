{
  "nbformat": 4,
  "nbformat_minor": 0,
  "metadata": {
    "colab": {
      "provenance": [],
      "include_colab_link": true
    },
    "kernelspec": {
      "name": "python3",
      "display_name": "Python 3"
    },
    "language_info": {
      "name": "python"
    }
  },
  "cells": [
    {
      "cell_type": "markdown",
      "metadata": {
        "id": "view-in-github",
        "colab_type": "text"
      },
      "source": [
        "<a href=\"https://colab.research.google.com/github/deenyse/VSB_ZSU/blob/main/Copy_of_UASS_5_21_10.ipynb\" target=\"_parent\"><img src=\"https://colab.research.google.com/assets/colab-badge.svg\" alt=\"Open In Colab\"/></a>"
      ]
    },
    {
      "cell_type": "markdown",
      "source": [
        "# Analýza větších sítí\n",
        "\n",
        "> Cílem cvičení je vyzkoušet si analyzovat větší sítě s využitím poznatků z minulých cvičení, tj. vizualizovat síť, vlastnosti, komunity, apod.\n",
        "\n",
        "\n",
        "## Část 1: Struktury v sítí\n",
        "\n",
        "1. Sítě\n",
        "\n",
        "  - Vyberte si alespoň 2 větší sítě [large_data.zip](https://h`omel.vsb.cz/~kud007/data/large_data.zip)\n",
        "\n",
        "2. Analyzujte síť, výstupem by měl být dokument, kde shrnete získané poznatky"
      ],
      "metadata": {
        "id": "03W3zq4_AcmI"
      }
    },
    {
      "cell_type": "code",
      "source": [
        "import random\n",
        "import networkx as nx\n",
        "\n",
        "import pandas as pd\n",
        "import numpy as np\n",
        "\n",
        "def find_components(G):\n",
        "    return list(nx.connected_components(G))\n",
        "\n",
        "\n",
        "def find_cliques(G, min_size=3):\n",
        "    clique_nodes = set()\n",
        "    for clique in nx.find_cliques(G):\n",
        "        if len(clique) >= min_size:\n",
        "            clique_nodes.update(clique)\n",
        "    return clique_nodes\n",
        "\n",
        "\n",
        "def find_stars(G, degree_percentile=80, leaf_density_threshold=0.2):\n",
        "    degrees = [G.degree(n) for n in G]\n",
        "    min_degree = np.percentile(degrees, degree_percentile)\n",
        "    star_nodes = set()\n",
        "    for node in G:\n",
        "        if G.degree(node) < min_degree:\n",
        "            continue\n",
        "        neighbors = list(G.neighbors(node))\n",
        "        if len(neighbors) < 3:\n",
        "            continue\n",
        "        if nx.density(G.subgraph(neighbors)) <= leaf_density_threshold:\n",
        "            star_nodes.add(node)\n",
        "    return star_nodes\n",
        "\n"
      ],
      "metadata": {
        "id": "Aq0iGDSJguBL"
      },
      "execution_count": 10,
      "outputs": []
    },
    {
      "cell_type": "code",
      "source": [
        "def color_nodes(G, nodes, color, node_type=None):\n",
        "    for n in nodes:\n",
        "        if n not in G.nodes:\n",
        "            continue\n",
        "        G.nodes[n][\"color\"] = color\n",
        "        if node_type:\n",
        "            G.nodes[n][\"type\"] = node_type\n",
        "\n",
        "\n",
        "def export_to_gephi(G: nx.Graph, path: str = \"graph_colored.gexf\"):\n",
        "    nx.write_gexf(G, path)\n",
        "\n"
      ],
      "metadata": {
        "id": "NWjPgcdDYPfu"
      },
      "execution_count": 11,
      "outputs": []
    },
    {
      "cell_type": "code",
      "source": [
        "# Function for network analysis\n",
        "def analyze_network(file_path, network_name):\n",
        "    print(f\"\\n=== Results for network: {network_name} ===\")\n",
        "\n",
        "    try:\n",
        "        # Read the graph in GEXF format\n",
        "        G = nx.read_gexf(file_path)\n",
        "\n",
        "        # Basic metrics\n",
        "        num_nodes = G.number_of_nodes()\n",
        "        num_edges = G.number_of_edges()\n",
        "        avg_degree = sum(dict(G.degree()).values()) / num_nodes if num_nodes > 0 else 0\n",
        "        components = find_components(G)\n",
        "        clique_nodes = find_cliques(G, min_size=4)\n",
        "        star_nodes = find_stars(G, degree_percentile=80, leaf_density_threshold=0.2)\n",
        "\n",
        "        # Node coloring and export\n",
        "        nx.set_node_attributes(G, \"default\", \"type\")\n",
        "        nx.set_node_attributes(G, \"gray\", \"color\")\n",
        "        color_nodes(G, clique_nodes, \"#ff0000\", \"clique\")\n",
        "        color_nodes(G, star_nodes, \"#00ccff\", \"star\")\n",
        "        export_to_gephi(G, f\"{network_name}_colored.gexf\")\n",
        "\n",
        "        # Print results\n",
        "        print(f\"Number of nodes: {num_nodes}\")\n",
        "        print(f\"Number of edges: {num_edges}\")\n",
        "        print(f\"Average node degree: {avg_degree:.2f}\")\n",
        "        print(f\"Number of connected components: {len(components)}\")\n",
        "        print(f\"Number of nodes in cliques (min_size=4): {len(clique_nodes)}\")\n",
        "        print(f\"Number of nodes in stars: {len(star_nodes)}\")\n",
        "\n",
        "    except Exception as e:\n",
        "        print(f\"Error processing {file_path}: {str(e)}\")\n",
        "\n",
        "# Analyze two networks\n",
        "networks = [\n",
        "    (\"Ernon.csv\", \"Enron\"),\n",
        "    (\"Facebook.csv\", \"Facebook\")\n",
        "]\n",
        "\n",
        "for file_path, network_name in networks:\n",
        "    analyze_network(file_path, network_name)\n"
      ],
      "metadata": {
        "colab": {
          "base_uri": "https://localhost:8080/"
        },
        "id": "sgUOmnFWLkD9",
        "outputId": "16e393ae-d6f6-42b5-d963-0f1921bda06c"
      },
      "execution_count": 25,
      "outputs": [
        {
          "output_type": "stream",
          "name": "stdout",
          "text": [
            "\n",
            "=== Results for network: Enron ===\n",
            "Number of nodes: 34\n",
            "Number of edges: 78\n",
            "Average node degree: 4.59\n",
            "Number of connected components: 1\n",
            "Number of nodes in cliques (min_size=4): 12\n",
            "Number of nodes in stars: 4\n",
            "\n",
            "=== Results for network: Facebook ===\n",
            "Number of nodes: 77\n",
            "Number of edges: 254\n",
            "Average node degree: 6.60\n",
            "Number of connected components: 1\n",
            "Number of nodes in cliques (min_size=4): 48\n",
            "Number of nodes in stars: 1\n"
          ]
        }
      ]
    },
    {
      "cell_type": "markdown",
      "source": [
        "| Vlastnost                              | Enron 📧 | Facebook 📘 |\n",
        "| :------------------------------------- | :------- | :---------- |\n",
        "| **Počet vrcholů**                      | 34       | 77          |\n",
        "| **Počet hran**                         | 78       | 254         |\n",
        "| **Hustota sítě**                       | 0.140    | 0.086       |\n",
        "| **Průměrný stupeň**                    | 4.59     | 6.60        |\n",
        "| **Maximální stupeň**                   | -        | -           |\n",
        "| **Průměrný shluk. koef.**              | -        | -           |\n",
        "| **Počet komponent**                    | 1        | 1           |\n",
        "| **Počet vrcholů v klike (min_size=4)** | 12       | 48          |\n",
        "| **Počet hvězd**                        | 4        | 1           |\n",
        "\n"
      ],
      "metadata": {
        "id": "hE6JAb3bS8zc"
      }
    },
    {
      "cell_type": "markdown",
      "source": [
        "## Část 2: Porovnejte výsledky\n",
        "1. Jaký typ rozložení vrcholů byl použit a proč je pro danou síť vhodný?\n",
        "---\n",
        "2. Které vrcholy mají nejvíce hran a jaký význam to může mít pro propojení v síti?\n",
        "\n",
        "---\n",
        "3. Kolik má síť vrcholů a hran, jaký je průměrný počet hran na vrchol a co to vypovídá o její struktuře?\n",
        "\n",
        "- Enron: 34 uzlů, 78 hran, průměrný stupeň 4,59 → řidší síť.\n",
        "\n",
        "- Facebook: 77 uzlů, 254 hran, průměrný stupeň 6,60 → hustší síť.\n",
        "\n",
        "---\n",
        "4. Jak daleko jsou od sebe průměrně jednotlivé vrcholy a co to říká o propojenosti sítě?\n",
        "\n",
        "- Počet uzlů v klikách (min_size=4): Enron 12, Facebook 48 → skupiny existují.\n",
        "\n",
        "---\n",
        "5. Existují v síti skupiny vrcholů, které jsou mezi sebou více propojené?\n",
        "- Enron: 12 uzlů v klike, Facebook: 48 → Facebook má větší skupiny, což naznačuje výraznější komunity.\n",
        "---\n",
        "6. Jsou tyto skupiny tvořené podobným počtem vrcholů nebo se výrazně liší a co by to mohlo znamenat?\n",
        "\n",
        "  - Enron: 4 „hvězdy“, Facebook: 1 „hvězda“.\n",
        "  - Kliky a hvězdy ukazují na přítomnost hustě propojených podskupin a centrálních uzlů.\n",
        "---\n",
        "7. Které vrcholy propojují různé části sítě a jakou roli v ní mohou hrát?\n",
        "\n",
        "  - Enron: méně propojená síť.\n",
        "\n",
        "  - Facebook: více propojená síť, silné komunity.\n",
        "\n",
        "---\n",
        "8. Jaké typické struktury lze v síti pozorovat?\n",
        "\n",
        "---\n",
        "9. Jak by se změnila síť, pokud by byly odstraněny vrcholy s největším počtem hran?\n",
        "\n",
        "\n",
        "---\n",
        "10. Jak na základě propojení vrcholů popsat soudržnost sítě a vztahy mezi jejími částmi?"
      ],
      "metadata": {
        "id": "-S33P1G7gxQn"
      }
    },
    {
      "cell_type": "code",
      "source": [],
      "metadata": {
        "id": "rNMpgUjdLBEE"
      },
      "execution_count": null,
      "outputs": []
    }
  ]
}