{
  "nbformat": 4,
  "nbformat_minor": 0,
  "metadata": {
    "colab": {
      "provenance": [],
      "include_colab_link": true
    },
    "kernelspec": {
      "name": "python3",
      "display_name": "Python 3"
    },
    "language_info": {
      "name": "python"
    }
  },
  "cells": [
    {
      "cell_type": "markdown",
      "metadata": {
        "id": "view-in-github",
        "colab_type": "text"
      },
      "source": [
        "<a href=\"https://colab.research.google.com/github/deenyse/VSB_ZSU/blob/main/Copy_of_UASS_4_14_10.ipynb\" target=\"_parent\"><img src=\"https://colab.research.google.com/assets/colab-badge.svg\" alt=\"Open In Colab\"/></a>"
      ]
    },
    {
      "cell_type": "markdown",
      "source": [
        "# Detekce komunit\n",
        "\n",
        "> Cílem cvičení je porovnat algoritmy pro detekci komunit, jak se liší výsledky vzhledem k použitému algoritmu a typu sítě. Vzhledem k tomu, že Gephi dokáže počítat pouze modularitu, tj. pro detekci komunit je dostupný pouze Louvain algoritmus, použijeme pro detekci komunit networkx, který má naimplementované i další algoritmy.\n",
        "\n",
        "\n",
        "## Část 1: Detekce komunit\n",
        "\n",
        "1. Sítě\n",
        "\n",
        "  - Použíjte sítě z minulého cvičení, tj. síť delfínů a LesMiserables\n",
        "\n",
        "2. Vyberte si Louvain algoritmus a alespoň 2 další algoritmy pro predikci komunit z networkx:\n",
        "      - [Seznam algoritmů](https://networkx.org/documentation/stable/reference/algorithms/community.html)\n",
        "3. Detekce komunit:\n",
        "  - Na zvolené sítě aplikujte detekci komunit\n",
        "  - Vstupem bývá objekt `nx.Graph` a výstupem z Networkx bývá seznam množin (`[{vrcholy pro komunitu 1}, {vrcholy pro komunitu 2},...]`), kde každá množina je jedna komunita a její prvky jsou identifikátory vrcholů ze sítě\n",
        "  - Po predikci obarvěte každou komunitu, resp. její vrcholy jinou barvou\n",
        "    - Pro obarvení je nutné vytvořit seznam barev, kde index vrcholu v seznamu vrcholů (`G.nodes`) odpovídá barvě na daném indexu v seznamu barev ([])\n",
        "    - Pro Gephi nutný atribut `viz` - `vrchol[\"viz\"][\"color\"] = {\"a\":0, \"r\": 0, \"g\": 0, \"b\": 0}`"
      ],
      "metadata": {
        "id": "03W3zq4_AcmI"
      }
    },
    {
      "cell_type": "code",
      "source": [
        "import random # https://docs.python.org/3/library/random.html\n",
        "import networkx as nx\n",
        "G : nx.Graph = nx.read_edgelist(\"nazev.csv\", delimiter=';',nodetype=int)\n",
        "communities = nx.community.louvain_communities... # TODO - doplnit kod pro ziskani komunit - https://networkx.org/documentation/stable/reference/algorithms/generated/networkx.algorithms.community.louvain.louvain_communities.html#networkx.algorithms.community.louvain.louvain_communities\n",
        "# Vystup [{0, 4, 5, 7, 9}, {1, 2, 3, 6, 8}]\n",
        "\n",
        "community_colors = []\n",
        "for _ in communities:\n",
        "    community_colors.append((...)) # TODO: doplnte generovani nahodnych barev ve formatu (r,g,b) v rozmezi 0 - 255 - https://docs.python.org/3/library/random.html\n",
        "\n",
        "\n",
        "# TODO - nastavte barvy podle prislusnosti do komunit\n",
        "for c_idx, community in enumerate(communities): # c_idx - index komunity, community - mnozina vrcholu\n",
        "  r,g,b = ... # TODO - ziskat barvu komunity\n",
        "  G.nodes[N]['color'] = (r/255, g/255, b/255)\n",
        "  # G.node[N]['viz'] = {'r': 0, 'g': 0, 'b': 0, 'a': 1.0}\n",
        "\n",
        "node_colors = [G.nodes[n]['color'] for n in G.nodes()]\n",
        "\n"
      ],
      "metadata": {
        "id": "Aq0iGDSJguBL"
      },
      "execution_count": null,
      "outputs": []
    },
    {
      "cell_type": "markdown",
      "source": [
        "\n",
        "## Část 2: Vizualizace v networkx a Gephi\n",
        "1. Exportujte barevnou síť do Gephi\n",
        "2. Zobrazte barevnou síť v Google Colabu\n",
        "  - Nejprve použíjte `spring_layout` rozložení - [spring_layout](https://networkx.org/documentation/stable/reference/generated/networkx.drawing.layout.spring_layout.html), který rozloží vrcholy v prostoru a vrátí slovník pozic pro každý vrchol\n",
        "  - Vykreslete síť, doplňte jako parametr slovník s pozicemi a barvy vrcholů - [draw_networkx](https://networkx.org/documentation/stable/reference/generated/networkx.drawing.nx_pylab.draw_networkx.html)\n"
      ],
      "metadata": {
        "id": "vtUHGPrAgumb"
      }
    },
    {
      "cell_type": "code",
      "source": [
        "# Spring layout\n",
        "# https://networkx.org/documentation/stable/reference/generated/networkx.drawing.layout.spring_layout.html\n",
        "# TODO - ziskat pozice vrcholu\n",
        "\n",
        "# Vykreslit sit s barvami vrcholu a pozicemi ze spring layoutu\n",
        "# https://networkx.org/documentation/stable/reference/generated/networkx.drawing.nx_pylab.draw_networkx.html#networkx.drawing.nx_pylab.draw_networkx\n",
        "# TODO - vykreslit sit s pozicemi a barvami vrcholu\n"
      ],
      "metadata": {
        "id": "3JT1jd4ngxEA"
      },
      "execution_count": null,
      "outputs": []
    },
    {
      "cell_type": "markdown",
      "source": [
        "## Část 3: Porovnejte výsledky\n",
        "1. Jak se liší rozložení po použití ForceAtlas2 a spring layout v networkx a které rozložení je lepší?\n",
        "2. Který algoritmus vypadá, že nejlépe rozdělil síť do komunit?\n",
        "3. Jak zhruba fungují zvolené algoritmy?\n",
        "4. Jak by šlo upravit rozdělení vrcholů, aby rozdělení lépe odpovídalo pomyslným komunitám?\n",
        "5. Je každý vrchol ze sítě v nějaké komunitě?\n",
        "5. Jak by šlo vizualizovat komunity v síti jinak, než obarevením vrcholů?"
      ],
      "metadata": {
        "id": "-S33P1G7gxQn"
      }
    },
    {
      "cell_type": "code",
      "source": [],
      "metadata": {
        "id": "kLBmkINvgxvR"
      },
      "execution_count": null,
      "outputs": []
    }
  ]
}